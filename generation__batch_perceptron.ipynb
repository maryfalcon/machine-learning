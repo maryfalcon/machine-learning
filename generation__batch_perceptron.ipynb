{
 "cells": [
  {
   "cell_type": "code",
   "execution_count": 21,
   "metadata": {},
   "outputs": [
    {
     "data": {
      "image/png": "[encoded data removed]",
      "text/plain": [
       "<matplotlib.figure.Figure at 0x9419b38>"
      ]
     },
     "metadata": {},
     "output_type": "display_data"
    }
   ],
   "source": [
    "import matplotlib.pyplot as plt \n",
    "import matplotlib.patches as patches\n",
    "import random \n",
    "import math\n",
    "import Queue\n",
    "\n",
    "def x_range(min_x, max_x, min_y, max_y, k, b):\n",
    "    x1 = (min_y-b) / k\n",
    "    x2 = (max_y-b) / k\n",
    "    min_x_line = max(min(x1, x2),min_x)\n",
    "    max_x_line = min(max(x1, x2),max_x)\n",
    "    return (min_x_line,max_x_line)\n",
    "\n",
    "def x_rangePN(min_x, max_x, min_y, max_y, min_x_line,max_x_line,angle):\n",
    "    if(angle > math.pi/2):\n",
    "        return min_x_line,max_x, min_x,max_x_line\n",
    "    else:\n",
    "        return min_x, max_x_line, min_x_line, max_x\n",
    "    \n",
    "def b_range(min_x, max_x, min_y, max_y, k,angle):\n",
    "    if(angle > math.pi/2):\n",
    "        min_b = min_y - k*min_x\n",
    "        max_b = max_y - k*max_x\n",
    "    else:\n",
    "        min_b = min_y - k*max_x\n",
    "        max_b = max_y - k*min_x\n",
    "    return (min_b,max_b)\n",
    "\n",
    "def generate_point(min_y, max_y, k,b, x_min,x_max, n_part):\n",
    "    x = random.uniform(x_min,x_max)\n",
    "    y_line = k * x + b\n",
    "    if y_line <= max_y and y_line >= min_y:\n",
    "        y = random.uniform(min_y,y_line-0.1) if(n_part) else random.uniform(y_line+0.1,max_y)\n",
    "    else:\n",
    "        y = random.uniform(min_y,max_y)\n",
    "    return [x, y]\n",
    "        \n",
    "def generate_points_part( min_y, max_y, k,b, x1, x2, amount,n_part):\n",
    "    q = Queue.Queue()\n",
    "    q.put((x1, x2))\n",
    "    xy = []\n",
    "    while not q.empty() and amount > 0:\n",
    "        x1,x2 = q.get()\n",
    "        x = (x2+x1)/2\n",
    "        q.put((x1,x))\n",
    "        q.put((x,x2))\n",
    "        xy_arr = generate_point( min_y, max_y, k, b,x1,x2, n_part)  \n",
    "        xy.append(xy_arr)\n",
    "        amount -= 1\n",
    "    return xy;\n",
    "\n",
    "def points_generator(min_x, max_x, min_y, max_y,n,p, plot_line):\n",
    "    angle = random.uniform(0, math.pi)\n",
    "    k = math.tan(angle)\n",
    "    (min_b,max_b) = b_range(min_x, max_x, min_y, max_y, k,angle)\n",
    "    b = random.uniform(min_b+0.1, max_b-0.1)\n",
    "    (x1,x2) = x_range(min_x, max_x, min_y, max_y, k, b)\n",
    "    p_x_min, p_x_max, n_x_min, n_x_max = x_rangePN(min_x, max_x, min_y, max_y, x1,x2, angle)\n",
    "    if(plot_line):\n",
    "        y1 = k*x1 + b\n",
    "        y2 = k*x2 + b\n",
    "        plt.plot((x1,x2),(y1,y2), 'b')\n",
    "    p_x_end = p_x_max - 0.1\n",
    "    n_x_end = n_x_max - 0.1\n",
    "    p_x_start = p_x_min + 0.1\n",
    "    n_x_start = n_x_min + 0.1\n",
    "    xy_N = generate_points_part( min_y, max_y, k,b, n_x_start, n_x_end, n,True)\n",
    "    xy_P = generate_points_part( min_y, max_y, k,b, p_x_start, p_x_end, p,False)\n",
    "    return (xy_N + xy_P, [1] * n + [-1] * p) \n",
    "n = 50\n",
    "p = 50\n",
    "min_x = -10\n",
    "min_y = -10\n",
    "max_x = 1\n",
    "max_y = 1\n",
    "(xy,yi) = points_generator(min_x, max_x, min_y, max_y,n,p,True) \n",
    "plt.plot([xy[i][0] for i in range(n)],[xy[i][1] for i in range(n)], \".g\")\n",
    "plt.plot([xy[i][0] for i in range(n,len(xy))],[xy[i][1] for i in range(n,len(xy))], \".r\")\n",
    "plt.axis([-10, 1, -10, 1])\n",
    "plt.show()"
   ]
  },
  {
   "cell_type": "code",
   "execution_count": 11,
   "metadata": {},
   "outputs": [
    {
     "name": "stdout",
     "output_type": "stream",
     "text": [
      "weights [3.7997868728109903, -18.31225262930565, -15]\n",
      "iterations 14\n",
      "min_margin 0.210806256965\n"
     ]
    },
    {
     "data": {
      "image/png": "[encoded data removed]",
      "text/plain": [
       "<matplotlib.figure.Figure at 0x7e6f588>"
      ]
     },
     "metadata": {},
     "output_type": "display_data"
    }
   ],
   "source": [
    "k = 30\n",
    "min_x = -10\n",
    "min_y = -10\n",
    "max_x = 1\n",
    "max_y = 1\n",
    "(xy,yi) = points_generator(min_x,max_x,min_y,max_y, k, k,True) \n",
    "plt.plot([xy[i][0] for i in range(k)],[xy[i][1] for i in range(k)], \".g\")\n",
    "plt.plot([xy[i][0] for i in range(k,len(xy))],[xy[i][1] for i in range(k,len(xy))], \".r\")\n",
    "\n",
    "def batch_perceptron((xy,yi)):\n",
    "    w = [0,0,0]\n",
    "    iteration = 0;\n",
    "    while(True):\n",
    "        changed = 0;\n",
    "        min_margin = 100000\n",
    "        for i in xrange(0,2*k):\n",
    "            xi = xy[i]+[1]\n",
    "            s = 0\n",
    "            for j in xrange(0,3):\n",
    "                s += w[j]*xi[j]\n",
    "            margin = s*yi[i]\n",
    "            if(margin<min_margin):\n",
    "                min_margin = margin\n",
    "            if(margin <= 0):\n",
    "                changed += 1\n",
    "                for j in xrange(0,3):\n",
    "                    w[j] += xi[j] * yi[i]\n",
    "        if changed == 0:\n",
    "            break\n",
    "        iteration += 1\n",
    "    return w,iteration,min_margin\n",
    "(w,iteration,min_margin) =batch_perceptron((xy,yi))\n",
    "print \"weights\",w\n",
    "print \"iterations\",iteration\n",
    "print \"min_margin\",min_margin\n",
    "(x1,x2) = x_range(min_x,max_x,min_y,max_y,-w[0]/w[1], -w[2]/w[1])\n",
    "y1 = -w[0]/w[1]*x1 + -w[2]/w[1]\n",
    "y2 = -w[0]/w[1]*x2 + -w[2]/w[1]\n",
    "plt.plot((x1,x2),(y1,y2), 'c')\n",
    "plt.axis([min_x,max_x,min_y,max_y])\n",
    "plt.show()"
   ]
  },
  {
   "cell_type": "code",
   "execution_count": 10,
   "metadata": {},
   "outputs": [
    {
     "data": {
      "image/png": "[encoded data removed]",
      "text/plain": [
       "<matplotlib.figure.Figure at 0x5efc550>"
      ]
     },
     "metadata": {},
     "output_type": "display_data"
    }
   ],
   "source": [
    "min_x = -10\n",
    "min_y = -10\n",
    "max_x = 1\n",
    "max_y = 1\n",
    "tries_for_k = 5\n",
    "max_k = 50\n",
    "avg_iterations = []\n",
    "for k in range(1,max_k):\n",
    "    iterations = 0;\n",
    "    for i in range(tries_for_k):\n",
    "        (xy,yi) = points_generator(min_x,max_x,min_y,max_y, k, k,False) \n",
    "        (w,iteration,min_margin) =batch_perceptron((xy,yi))\n",
    "        iterations +=iteration\n",
    "    avg_iterations.append(float(iterations)/tries_for_k)\n",
    "      \n",
    "plt.plot([k for k in range(1,max_k)],avg_iterations, 'r')\n",
    "plt.xlabel(\"k\")\n",
    "plt.ylabel(\"Iterations\")\n",
    "plt.show()"
   ]
  }
 ],
 "metadata": {
  "kernelspec": {
   "display_name": "Python 2",
   "language": "python",
   "name": "python2"
  },
  "language_info": {
   "codemirror_mode": {
    "name": "ipython",
    "version": 2
   },
   "file_extension": ".py",
   "mimetype": "text/x-python",
   "name": "python",
   "nbconvert_exporter": "python",
   "pygments_lexer": "ipython2",
   "version": "2.7.13"
  }
 },
 "nbformat": 4,
 "nbformat_minor": 2
}
