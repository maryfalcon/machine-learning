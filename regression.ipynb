{
 "cells": [
  {
   "cell_type": "code",
   "execution_count": 3,
   "metadata": {},
   "outputs": [
    {
     "name": "stdout",
     "output_type": "stream",
     "text": [
      "Optimization terminated successfully.\n",
      "         Current function value: 208.953912  \n",
      "         Iterations: 138\n",
      "weights ridge: [ -3.04634035e+00   4.47411947e-03   4.82210324e+01   1.24703504e+01]\n",
      "weights module: [ -2.83245223e+00   1.05564300e-02   3.07481879e+01   1.76187408e+01]\n",
      "mse ridge: 26.6076896317\n",
      "mse module: 29.3611091245\n"
     ]
    },
    {
     "data": {
      "image/png": "[encoded data removed]",
      "text/plain": [
       "<matplotlib.figure.Figure at 0x7e68668>"
      ]
     },
     "metadata": {},
     "output_type": "display_data"
    }
   ],
   "source": [
    "import csv\n",
    "import numpy as np\n",
    "import math\n",
    "import matplotlib.pyplot as plt \n",
    "import matplotlib.patches as patches\n",
    "\n",
    "def readFile():\n",
    "    x=[]\n",
    "    y=[]\n",
    "    with open('basketball.csv', 'rb') as csvfile:\n",
    "        reader = csv.reader(csvfile)\n",
    "        for row in reader:\n",
    "            if(reader.line_num>1):\n",
    "                x.append([float(k) for k in row[0:4]])\n",
    "                y.append(float(row[4]))\n",
    "    return x, y\n",
    "\n",
    "def ridge_regression_inverse_matrix(tau,(x,y)):\n",
    "    x = np.transpose(np.matrix(x))\n",
    "    m,n = x.shape\n",
    "    inv_matrix = np.linalg.inv(np.add(np.dot(x,np.transpose(x)),np.diag([tau]*m)))\n",
    "    w = np.array(np.squeeze(np.asarray(np.dot(np.dot(inv_matrix,x),y))))\n",
    "    return w\n",
    "\n",
    "def ridge_regression_svd(tau,(x,y)):\n",
    "    x = np.transpose(np.matrix(x))\n",
    "    (m,n) = x.shape\n",
    "    (u,s,v) = np.linalg.svd(x)\n",
    "    d = np.zeros((m,n))\n",
    "    d[:len(s), :len(s)] = np.diag([(i/(i*i+tau)) for i in s])\n",
    "    w = np.array(np.squeeze(np.asarray(np.dot(np.dot(np.dot(u,d),v),y))).tolist())\n",
    "    return w\n",
    "\n",
    "def apply_w_to_x(x,w):\n",
    "    return np.dot(np.matrix(x),w).tolist()[0]\n",
    "\n",
    "def get_y_for_tau(x,y,tau):\n",
    "    return apply_w_to_x(x,ridge_regression_svd(tau,(x,y)))\n",
    "\n",
    "def count_mse(y_real, y_regression):\n",
    "    m = len(y_real)\n",
    "    return sum([(y_real[i]-y_regression[i])**2 for i in range(m)])/m\n",
    "\n",
    "def module_regression_linear(x,y):\n",
    "    (x,y) = readFile()\n",
    "    x_height = len(y)\n",
    "    x_width = len(x[0])\n",
    "    c =  [0] * x_width + [1] * x_height\n",
    "    I = (-np.identity(x_height)).tolist()\n",
    "    A = [x[i]+I[i] for i in range(x_height)]+[[-x[i][j] for j in range(x_width)] +I[i] for i in range(x_height)]\n",
    "    b = y + [-i for i in y]\n",
    "    bounds = [(None,None)] * x_width + [(0.0,None)]*x_height\n",
    "    from scipy.optimize import linprog\n",
    "    res = linprog(c, A_ub=A, b_ub = b, bounds=bounds,options={\"disp\": True, \"bland\": True, \"tol\": 0.001})\n",
    "    w = res.x[:x_width]\n",
    "    return w\n",
    "\n",
    "\n",
    "taus = []\n",
    "mses = []\n",
    "tau = 0.0\n",
    "(x,y)=readFile()\n",
    "w_regr_ridge = ridge_regression_svd(tau,(x,y))\n",
    "y_regr_ridge = apply_w_to_x(x, w_regr_ridge)\n",
    "mse_ridge = count_mse(y,y_regr_ridge)\n",
    "\n",
    "w_regr_module = module_regression_linear(x,y)\n",
    "y_regr_module = apply_w_to_x(x, w_regr_module)\n",
    "mse_module = count_mse(y,y_regr_module)\n",
    "\n",
    "print \"weights ridge:\", w_regr_ridge\n",
    "print \"weights module:\", w_regr_module\n",
    "print \"mse ridge:\", mse_ridge\n",
    "print \"mse module:\", mse_module\n",
    "\n",
    "while tau < 1:\n",
    "    y_regr = get_y_for_tau(x,y,tau)\n",
    "    mse = count_mse(y,y_regr)\n",
    "    taus.append(tau)\n",
    "    mses.append(mse)\n",
    "    tau +=0.001\n",
    "plt.plot(taus,mses,\"r\")\n",
    "plt.xlabel(\"tau\")\n",
    "plt.ylabel(\"mse\")\n",
    "plt.axis([0,1,0,35])\n",
    "plt.show()"
   ]
  }
 ],
 "metadata": {
  "kernelspec": {
   "display_name": "Python 2",
   "language": "python",
   "name": "python2"
  },
  "language_info": {
   "codemirror_mode": {
    "name": "ipython",
    "version": 2
   },
   "file_extension": ".py",
   "mimetype": "text/x-python",
   "name": "python",
   "nbconvert_exporter": "python",
   "pygments_lexer": "ipython2",
   "version": "2.7.13"
  }
 },
 "nbformat": 4,
 "nbformat_minor": 2
}
