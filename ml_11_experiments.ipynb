{
 "cells": [
  {
   "cell_type": "code",
   "execution_count": 1,
   "metadata": {},
   "outputs": [
    {
     "name": "stdout",
     "output_type": "stream",
     "text": [
      "Score on validation:  0.9684\n"
     ]
    }
   ],
   "source": [
    "import numpy as np\n",
    "import sklearn\n",
    "import sklearn.ensemble\n",
    "import sklearn.datasets\n",
    "import time\n",
    "from sklearn.utils import shuffle\n",
    "\n",
    "\n",
    "mnist = sklearn.datasets.fetch_mldata('MNIST original')\n",
    "X, Y = mnist['data'], np.array(mnist['target'], dtype='int')\n",
    "\n",
    "X = mnist.data/255.0 * 2 - 1\n",
    "\n",
    "ntrain = 60000\n",
    "X_train, Y_train = X[:ntrain], Y[:ntrain]\n",
    "X_test, Y_test = X[ntrain:], Y[ntrain:]\n",
    "\n",
    "classifier = sklearn.ensemble.BaggingClassifier(sklearn.neighbors.KNeighborsClassifier(3),max_samples=0.5, max_features=0.5)\n",
    "\n",
    "classifier.fit(X_train, Y_train)\n",
    "print \"Score on validation: \",classifier.score(X_test, Y_test)\n"
   ]
  },
  {
   "cell_type": "code",
   "execution_count": 1,
   "metadata": {},
   "outputs": [
    {
     "name": "stdout",
     "output_type": "stream",
     "text": [
      "Score on validation:  0.9705\n"
     ]
    }
   ],
   "source": [
    "import numpy as np\n",
    "import sklearn\n",
    "import sklearn.ensemble\n",
    "import sklearn.datasets\n",
    "import time\n",
    "from sklearn.utils import shuffle\n",
    "\n",
    "\n",
    "mnist = sklearn.datasets.fetch_mldata('MNIST original')\n",
    "X, Y = mnist['data'], np.array(mnist['target'], dtype='int')\n",
    "\n",
    "X = mnist.data/255.0 * 2 - 1\n",
    "\n",
    "ntrain = 60000\n",
    "X_train, Y_train = X[:ntrain], Y[:ntrain]\n",
    "X_test, Y_test = X[ntrain:], Y[ntrain:]\n",
    "\n",
    "classifier = sklearn.neighbors.KNeighborsClassifier(3)\n",
    "\n",
    "classifier.fit(X_train, Y_train)\n",
    "print \"Score on validation: \",classifier.score(X_test, Y_test)"
   ]
  },
  {
   "cell_type": "code",
   "execution_count": 6,
   "metadata": {},
   "outputs": [
    {
     "name": "stdout",
     "output_type": "stream",
     "text": [
      "Score on validation:  0.7296\n"
     ]
    }
   ],
   "source": [
    "\n",
    "\n",
    "import numpy as np\n",
    "import sklearn\n",
    "import sklearn.ensemble\n",
    "import sklearn.datasets\n",
    "import time\n",
    "from sklearn.utils import shuffle\n",
    "\n",
    "\n",
    "mnist = sklearn.datasets.fetch_mldata('MNIST original')\n",
    "X, Y = mnist['data'], np.array(mnist['target'], dtype='int')\n",
    "\n",
    "X = mnist.data/255.0 * 2 - 1\n",
    "\n",
    "ntrain = 60000\n",
    "X_train, Y_train = X[:ntrain], Y[:ntrain]\n",
    "X_test, Y_test = X[ntrain:], Y[ntrain:]\n",
    "\n",
    "classifier = sklearn.ensemble.AdaBoostClassifier(n_estimators=100)\n",
    "\n",
    "classifier.fit(X_train, Y_train)\n",
    "print \"Score on validation: \",classifier.score(X_test, Y_test)\n"
   ]
  },
  {
   "cell_type": "code",
   "execution_count": 7,
   "metadata": {},
   "outputs": [
    {
     "name": "stdout",
     "output_type": "stream",
     "text": [
      "Score on validation:  0.926\n"
     ]
    }
   ],
   "source": [
    "import numpy as np\n",
    "import sklearn\n",
    "import sklearn.ensemble\n",
    "import sklearn.datasets\n",
    "import time\n",
    "from sklearn.utils import shuffle\n",
    "\n",
    "\n",
    "mnist = sklearn.datasets.fetch_mldata('MNIST original')\n",
    "X, Y = mnist['data'], np.array(mnist['target'], dtype='int')\n",
    "\n",
    "X = mnist.data/255.0 * 2 - 1\n",
    "\n",
    "ntrain = 60000\n",
    "X_train, Y_train = X[:ntrain], Y[:ntrain]\n",
    "X_test, Y_test = X[ntrain:], Y[ntrain:]\n",
    "\n",
    "classifier = sklearn.ensemble.GradientBoostingClassifier(n_estimators=50)\n",
    "\n",
    "classifier.fit(X_train, Y_train)\n",
    "print \"Score on validation: \",classifier.score(X_test, Y_test)"
   ]
  },
  {
   "cell_type": "code",
   "execution_count": 9,
   "metadata": {},
   "outputs": [
    {
     "name": "stdout",
     "output_type": "stream",
     "text": [
      "Score on validation:  0.9712\n"
     ]
    }
   ],
   "source": [
    "import numpy as np\n",
    "import sklearn\n",
    "import sklearn.ensemble\n",
    "import sklearn.datasets\n",
    "import time\n",
    "from sklearn.utils import shuffle\n",
    "\n",
    "\n",
    "mnist = sklearn.datasets.fetch_mldata('MNIST original')\n",
    "X, Y = mnist['data'], np.array(mnist['target'], dtype='int')\n",
    "\n",
    "X = mnist.data/255.0 * 2 - 1\n",
    "\n",
    "ntrain = 60000\n",
    "X_train, Y_train = X[:ntrain], Y[:ntrain]\n",
    "X_test, Y_test = X[ntrain:], Y[ntrain:]\n",
    "\n",
    "classifier = sklearn.ensemble.RandomForestClassifier(n_estimators=150,n_jobs=-1)\n",
    "\n",
    "classifier.fit(X_train, Y_train)\n",
    "print \"Score on validation: \",classifier.score(X_test, Y_test)"
   ]
  },
  {
   "cell_type": "code",
   "execution_count": 13,
   "metadata": {},
   "outputs": [
    {
     "name": "stdout",
     "output_type": "stream",
     "text": [
      "Score on validation:  0.9708\n"
     ]
    }
   ],
   "source": [
    "\n",
    "import numpy as np\n",
    "import sklearn\n",
    "import sklearn.ensemble\n",
    "import sklearn.datasets\n",
    "import time\n",
    "from sklearn.utils import shuffle\n",
    "\n",
    "\n",
    "mnist = sklearn.datasets.fetch_mldata('MNIST original')\n",
    "X, Y = mnist['data'], np.array(mnist['target'], dtype='int')\n",
    "\n",
    "X = mnist.data/255.0 * 2 - 1\n",
    "\n",
    "ntrain = 60000\n",
    "X_train, Y_train = X[:ntrain], Y[:ntrain]\n",
    "X_test, Y_test = X[ntrain:], Y[ntrain:]\n",
    "\n",
    "classifier = sklearn.ensemble.AdaBoostClassifier(base_estimator =sklearn.ensemble.RandomForestClassifier(n_estimators=150,n_jobs=-1), n_estimators=100)\n",
    "\n",
    "classifier.fit(X_train, Y_train)\n",
    "print \"Score on validation: \",classifier.score(X_test, Y_test)"
   ]
  },
  {
   "cell_type": "code",
   "execution_count": 17,
   "metadata": {},
   "outputs": [
    {
     "name": "stdout",
     "output_type": "stream",
     "text": [
      "Score on validation:  0.8388\n"
     ]
    }
   ],
   "source": [
    "\n",
    "import numpy as np\n",
    "import sklearn\n",
    "import sklearn.ensemble\n",
    "import sklearn.linear_model\n",
    "import sklearn.datasets\n",
    "import time\n",
    "from sklearn.utils import shuffle\n",
    "\n",
    "\n",
    "mnist = sklearn.datasets.fetch_mldata('MNIST original')\n",
    "X, Y = mnist['data'], np.array(mnist['target'], dtype='int')\n",
    "\n",
    "X = mnist.data/255.0 * 2 - 1\n",
    "\n",
    "ntrain = 60000\n",
    "X_train, Y_train = X[:ntrain], Y[:ntrain]\n",
    "X_test, Y_test = X[ntrain:], Y[ntrain:]\n",
    "\n",
    "classifier = sklearn.ensemble.AdaBoostClassifier(base_estimator =sklearn.linear_model.RidgeClassifier(), n_estimators=100, algorithm=\"SAMME\")\n",
    "\n",
    "classifier.fit(X_train, Y_train)\n",
    "print \"Score on validation: \",classifier.score(X_test, Y_test)"
   ]
  }
 ],
 "metadata": {
  "kernelspec": {
   "display_name": "Python 2",
   "language": "python",
   "name": "python2"
  },
  "language_info": {
   "codemirror_mode": {
    "name": "ipython",
    "version": 2
   },
   "file_extension": ".py",
   "mimetype": "text/x-python",
   "name": "python",
   "nbconvert_exporter": "python",
   "pygments_lexer": "ipython2",
   "version": "2.7.13"
  }
 },
 "nbformat": 4,
 "nbformat_minor": 2
}
