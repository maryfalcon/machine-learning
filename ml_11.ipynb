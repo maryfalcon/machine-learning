{
 "cells": [
  {
   "cell_type": "code",
   "execution_count": 1,
   "metadata": {},
   "outputs": [
    {
     "name": "stdout",
     "output_type": "stream",
     "text": [
      "Start fit\n",
      "Start score\n",
      "SVC score on train: 0.999983333333\n",
      "SVC score on validation: 0.9859\n"
     ]
    }
   ],
   "source": [
    "import sklearn.datasets\n",
    "import sklearn.svm\n",
    "import numpy as np\n",
    "from sklearn.utils import shuffle \n",
    "import time\n",
    "\n",
    "mnist = sklearn.datasets.fetch_mldata('MNIST original') \n",
    "X, Y = mnist['data'], np.array(mnist['target'], dtype='int') \n",
    "\n",
    "X = X / 255.0 * 2 - 1 \n",
    "\n",
    "ntrain_dev = 60000\n",
    "x_train, y_train = X[:ntrain_dev], Y[:ntrain_dev]\n",
    "X_test, Y_test = X[ntrain_dev:], Y[ntrain_dev:]\n",
    "\n",
    "estimator = sklearn.svm.SVC(C=5, gamma=0.008)\n",
    "print \"Start fit\"\n",
    "estimator.fit(x_train, y_train)\n",
    "print \"Start score\"\n",
    "print 'SVC score on train:', estimator.score(x_train, y_train)\n",
    "print 'SVC score on validation:', estimator.score(X_test, Y_test)"
   ]
  }
 ],
 "metadata": {
  "kernelspec": {
   "display_name": "Python 2",
   "language": "python",
   "name": "python2"
  },
  "language_info": {
   "codemirror_mode": {
    "name": "ipython",
    "version": 2
   },
   "file_extension": ".py",
   "mimetype": "text/x-python",
   "name": "python",
   "nbconvert_exporter": "python",
   "pygments_lexer": "ipython2",
   "version": "2.7.13"
  }
 },
 "nbformat": 4,
 "nbformat_minor": 2
}
